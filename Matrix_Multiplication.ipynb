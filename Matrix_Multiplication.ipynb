{
  "nbformat": 4,
  "nbformat_minor": 0,
  "metadata": {
    "colab": {
      "name": "Matrix_Multiplication.ipynb",
      "provenance": [],
      "collapsed_sections": []
    },
    "kernelspec": {
      "display_name": "Python 3",
      "name": "python3"
    },
    "language_info": {
      "name": "python"
    }
  },
  "cells": [
    {
      "cell_type": "markdown",
      "metadata": {
        "id": "LCJe98p1kpR_"
      },
      "source": [
        "#**Matrix Multiplication**"
      ]
    },
    {
      "cell_type": "code",
      "metadata": {
        "colab": {
          "base_uri": "https://localhost:8080/",
          "height": 154
        },
        "id": "BCqV24fzWP5A",
        "outputId": "6ab921d4-f73b-45a8-dd2c-41467d7eb04c"
      },
      "source": [
        "%lsmagic"
      ],
      "execution_count": null,
      "outputs": [
        {
          "output_type": "execute_result",
          "data": {
            "application/json": {
              "cell": {
                "prun": "ExecutionMagics",
                "file": "Other",
                "!": "OSMagics",
                "capture": "ExecutionMagics",
                "timeit": "ExecutionMagics",
                "script": "ScriptMagics",
                "pypy": "Other",
                "system": "OSMagics",
                "perl": "Other",
                "html": "DisplayMagics",
                "bash": "Other",
                "shell": "Other",
                "HTML": "Other",
                "python": "Other",
                "SVG": "Other",
                "javascript": "DisplayMagics",
                "bigquery": "Other",
                "js": "DisplayMagics",
                "writefile": "OSMagics",
                "ruby": "Other",
                "python3": "Other",
                "python2": "Other",
                "latex": "DisplayMagics",
                "sx": "OSMagics",
                "svg": "DisplayMagics",
                "sh": "Other",
                "time": "ExecutionMagics",
                "debug": "ExecutionMagics"
              },
              "line": {
                "psource": "NamespaceMagics",
                "logstart": "LoggingMagics",
                "popd": "OSMagics",
                "tensorflow_version": "Other",
                "loadpy": "CodeMagics",
                "colors": "BasicMagics",
                "who_ls": "NamespaceMagics",
                "lf": "Other",
                "ll": "Other",
                "pprint": "BasicMagics",
                "lk": "Other",
                "ls": "Other",
                "save": "CodeMagics",
                "tb": "ExecutionMagics",
                "lx": "Other",
                "pylab": "PylabMagics",
                "killbgscripts": "ScriptMagics",
                "quickref": "BasicMagics",
                "magic": "BasicMagics",
                "dhist": "OSMagics",
                "edit": "KernelMagics",
                "logstop": "LoggingMagics",
                "gui": "BasicMagics",
                "prun": "ExecutionMagics",
                "debug": "ExecutionMagics",
                "page": "BasicMagics",
                "logstate": "LoggingMagics",
                "ed": "Other",
                "pushd": "OSMagics",
                "timeit": "ExecutionMagics",
                "set_env": "OSMagics",
                "rehashx": "OSMagics",
                "hist": "Other",
                "qtconsole": "KernelMagics",
                "rm": "Other",
                "dirs": "OSMagics",
                "run": "ExecutionMagics",
                "reset_selective": "NamespaceMagics",
                "pinfo2": "NamespaceMagics",
                "matplotlib": "PylabMagics",
                "unload_ext": "ExtensionMagics",
                "doctest_mode": "BasicMagics",
                "logoff": "LoggingMagics",
                "reload_ext": "ExtensionMagics",
                "pdb": "ExecutionMagics",
                "load": "CodeMagics",
                "lsmagic": "BasicMagics",
                "autosave": "KernelMagics",
                "cd": "OSMagics",
                "pastebin": "CodeMagics",
                "alias_magic": "BasicMagics",
                "cp": "Other",
                "autocall": "AutoMagics",
                "ldir": "Other",
                "bookmark": "OSMagics",
                "connect_info": "KernelMagics",
                "mkdir": "Other",
                "system": "OSMagics",
                "whos": "NamespaceMagics",
                "rmdir": "Other",
                "automagic": "AutoMagics",
                "store": "StoreMagics",
                "more": "KernelMagics",
                "shell": "Other",
                "pdef": "NamespaceMagics",
                "precision": "BasicMagics",
                "pinfo": "NamespaceMagics",
                "pwd": "OSMagics",
                "psearch": "NamespaceMagics",
                "reset": "NamespaceMagics",
                "recall": "HistoryMagics",
                "xdel": "NamespaceMagics",
                "xmode": "BasicMagics",
                "cat": "Other",
                "mv": "Other",
                "rerun": "HistoryMagics",
                "logon": "LoggingMagics",
                "history": "HistoryMagics",
                "pycat": "OSMagics",
                "pip": "Other",
                "unalias": "OSMagics",
                "env": "OSMagics",
                "load_ext": "ExtensionMagics",
                "config": "ConfigMagics",
                "profile": "BasicMagics",
                "pfile": "NamespaceMagics",
                "less": "KernelMagics",
                "who": "NamespaceMagics",
                "notebook": "BasicMagics",
                "man": "KernelMagics",
                "sx": "OSMagics",
                "macro": "ExecutionMagics",
                "clear": "KernelMagics",
                "alias": "OSMagics",
                "time": "ExecutionMagics",
                "sc": "OSMagics",
                "rep": "Other",
                "pdoc": "NamespaceMagics"
              }
            },
            "text/plain": [
              "Available line magics:\n",
              "%alias  %alias_magic  %autocall  %automagic  %autosave  %bookmark  %cat  %cd  %clear  %colors  %config  %connect_info  %cp  %debug  %dhist  %dirs  %doctest_mode  %ed  %edit  %env  %gui  %hist  %history  %killbgscripts  %ldir  %less  %lf  %lk  %ll  %load  %load_ext  %loadpy  %logoff  %logon  %logstart  %logstate  %logstop  %ls  %lsmagic  %lx  %macro  %magic  %man  %matplotlib  %mkdir  %more  %mv  %notebook  %page  %pastebin  %pdb  %pdef  %pdoc  %pfile  %pinfo  %pinfo2  %pip  %popd  %pprint  %precision  %profile  %prun  %psearch  %psource  %pushd  %pwd  %pycat  %pylab  %qtconsole  %quickref  %recall  %rehashx  %reload_ext  %rep  %rerun  %reset  %reset_selective  %rm  %rmdir  %run  %save  %sc  %set_env  %shell  %store  %sx  %system  %tb  %tensorflow_version  %time  %timeit  %unalias  %unload_ext  %who  %who_ls  %whos  %xdel  %xmode\n",
              "\n",
              "Available cell magics:\n",
              "%%!  %%HTML  %%SVG  %%bash  %%bigquery  %%capture  %%debug  %%file  %%html  %%javascript  %%js  %%latex  %%perl  %%prun  %%pypy  %%python  %%python2  %%python3  %%ruby  %%script  %%sh  %%shell  %%svg  %%sx  %%system  %%time  %%timeit  %%writefile\n",
              "\n",
              "Automagic is ON, % prefix IS NOT needed for line magics."
            ]
          },
          "metadata": {},
          "execution_count": 1
        }
      ]
    },
    {
      "cell_type": "code",
      "metadata": {
        "colab": {
          "base_uri": "https://localhost:8080/"
        },
        "id": "jRukdlQoSwEL",
        "outputId": "29aa8c42-44da-4d0f-d5ca-965a726a34fb"
      },
      "source": [
        "%%writefile ss.cpp\n",
        "\n",
        "\n",
        "#include <stdlib.h>\n",
        "#include <stdio.h>\n",
        "#include <sys/time.h>\n",
        "#include <omp.h>\n",
        "\n",
        "#define tile_size 64\n",
        "#define MIN(a,b) (((a)<(b))?(a):(b))\n",
        "#define SEED 0\n",
        "\n",
        "void matrix_multiplication(double ** a, double ** b, double ** d,int n)\n",
        "{\n",
        "\tdouble sum;\n",
        "\tfor (int i = 0; i < n; i++){\n",
        "\t\tfor (int j = 0; j < n; j++){\n",
        "\t\t\t\td[i][j] = 0;\n",
        "\t\t\tfor (int k = 0; k < n; k++){\n",
        "\t\t\t\t\td[i][j] += a[i][k] * b[k][j];\n",
        "\t\t\t}\n",
        "\t\t}\n",
        "\t}\n",
        "}\n",
        "\n",
        "double **create_matrix(int n) {\n",
        "\tint i,j;\n",
        "\tdouble **a;\n",
        "\ta = (double**) malloc(sizeof(double*)*n);\n",
        "\tfor (i=0;i<n;i++) {\n",
        "\t\ta[i] = (double*) malloc(sizeof(double)*n);\n",
        "\t}\n",
        "\tsrand(SEED);\n",
        "\tfor (i=0;i<n;i++) {\n",
        "\t\tfor (j=0;j<n;j++) {\n",
        "\t\t\ta[i][j] = rand()%10;\n",
        "\t\t}\n",
        "\t}\n",
        "\treturn a;\n",
        "}\n",
        "\n",
        "void free_matrix(double **a, int n) {\n",
        "\tint i;\n",
        "\tfor (i=0;i<n;i++) {\n",
        "\t\tfree(a[i]);\n",
        "\t}\n",
        "\tfree(a);\n",
        "}\n",
        "\n",
        "int main(int argc, char *argv[]) {\n",
        "  \n",
        "  int n;\n",
        "  if(argc != 2){\n",
        "      printf(\"IMproper Arguments!!\");\n",
        "      exit(0);\n",
        "  }\n",
        "  \n",
        "  n = atoi(argv[1]);\n",
        "\n",
        "\tstruct timeval  TimeValue_Start;\n",
        "  struct timezone TimeZone_Start;\n",
        "\n",
        "  struct timeval  TimeValue_Final;\n",
        "  struct timezone TimeZone_Final;\n",
        "  long            time_start, time_end;\n",
        "  double          time_overhead;\n",
        "\tint i,j,k,ii,jj,kk,sum;\n",
        "\n",
        "\tdouble **A, **B, **C, **D;\n",
        "\tdouble t1,t2,t3,t4;\n",
        "         \n",
        "\tA = create_matrix(n);\n",
        "\tB = create_matrix(n);\n",
        "\tC = (double**) malloc(sizeof(double*)*n);\n",
        "        for (i=0;i<n;i++) {\n",
        "                C[i] = (double*) malloc(sizeof(double)*n);\n",
        "        }\n",
        "  D = (double**) malloc(sizeof(double*)*n);\n",
        "        for (i=0;i<n;i++) {\n",
        "                D[i] = (double*) malloc(sizeof(double)*n);\n",
        "        }\n",
        "\n",
        "\tfor(i=0; i<n; i++) \n",
        "  {\n",
        "\t\tfor(j=0; j<n; j++)\n",
        "    {\n",
        "\t\t\tC[i][j] = 0.0;\n",
        "      D[i][j] = 0.0;\n",
        "    }\n",
        "\t}\n",
        "\n",
        "\n",
        " gettimeofday(&TimeValue_Start, &TimeZone_Start);\n",
        " matrix_multiplication(A,B,D,n);\n",
        " gettimeofday(&TimeValue_Final, &TimeZone_Final);\n",
        " time_start = TimeValue_Start.tv_sec * 1000000 + TimeValue_Start.tv_usec;\n",
        " time_end = TimeValue_Final.tv_sec * 1000000 + TimeValue_Final.tv_usec;\n",
        " time_overhead = (time_end - time_start)/1000000.0;\n",
        "     \n",
        "\n",
        " printf(\"\\n\\t........................................................................\\n\");\n",
        " printf(\" \\t          Matrix Multiplication (Serial VS Tiled)                          \");\n",
        " printf(\"\\n\\t........................................................................\\n\");\n",
        "\n",
        "\n",
        " printf(\"\\n\\n\\t\\t Matrix into Matrix Multiplication (Serial) ......Done \\n\");\n",
        " printf(\"\\n\\t\\t Time in Seconds (T)        : %lf Seconds \\n\",time_overhead);\n",
        " printf(\"\\n\\t\\t ( T represents the Time taken for computation )\");\n",
        "\n",
        "\n",
        "\tgettimeofday(&TimeValue_Start, &TimeZone_Start);\n",
        "\t#pragma omp parallel for private(jj,kk,i,j,k,sum) \n",
        "\tfor (ii = 0; ii<n; ii+=tile_size) {\n",
        "      for (jj = 0; jj<n; jj+=tile_size) {\n",
        "\t        for(kk = 0; kk<n; kk+=tile_size) {\n",
        "              for (i = ii; i < MIN(ii+tile_size,n); i++) {\n",
        "                  for (j = jj; j < MIN(jj+tile_size,n); j++) {\n",
        "\t\t                sum = 0;\n",
        "                    for (k = kk; k < MIN(kk+tile_size,n); k++) \n",
        "                      {\n",
        "                       sum += A[i][k] * B[k][j];\n",
        "                       }\n",
        "\t\t                C[i][j]+= sum;\n",
        "\t                 }\n",
        "                 }\n",
        "              }\n",
        "            }\n",
        "         }\n",
        "\t  gettimeofday(&TimeValue_Final, &TimeZone_Final);\n",
        "  \ttime_start = TimeValue_Start.tv_sec * 1000000 + TimeValue_Start.tv_usec;\n",
        "    time_end = TimeValue_Final.tv_sec * 1000000 + TimeValue_Final.tv_usec;\n",
        "    time_overhead = (time_end - time_start)/1000000.0;\n",
        "     \n",
        "    printf(\"\\n\\n\\t\\t Matrix into Matrix Multiplication (Tiled) ......Done \\n\");\n",
        "    printf(\"\\n\\t\\t Time in Seconds (T)        : %lf Seconds \\n\",time_overhead);\n",
        "    printf(\"\\n\\t\\t ( T represents the Time taken for computation )\");\n",
        "    printf(\"\\n\\t\\t..........................................................................\\n\");\n",
        "\n",
        "  for(int i = 0;i<n;i++)\n",
        "    for(int j =0;j<n;j++){\n",
        "        if(C[i][j] != D[i][j]){\n",
        "            printf(\"Failed\");\n",
        "            exit(0);\n",
        "          }\n",
        "        }\n",
        "    \n",
        "\n",
        "  printf(\"Done Checking : Both Computations are same!! \");\n",
        "\tfree_matrix(A,n);\n",
        "\tfree_matrix(B,n);\n",
        "\tfree_matrix(C,n);\n",
        " \tfree_matrix(D,n);\n",
        "\n",
        "\treturn 0;\n",
        "}\n"
      ],
      "execution_count": null,
      "outputs": [
        {
          "output_type": "stream",
          "name": "stdout",
          "text": [
            "Writing ss.cpp\n"
          ]
        }
      ]
    },
    {
      "cell_type": "code",
      "metadata": {
        "colab": {
          "base_uri": "https://localhost:8080/"
        },
        "id": "yZjvxyR6UDjc",
        "outputId": "dff61333-e77c-4cfe-f122-80431a4c70ee"
      },
      "source": [
        "%%shell\n",
        "g++ -fopenmp ss.cpp -o out"
      ],
      "execution_count": null,
      "outputs": [
        {
          "output_type": "execute_result",
          "data": {
            "text/plain": [
              ""
            ]
          },
          "metadata": {},
          "execution_count": 3
        }
      ]
    },
    {
      "cell_type": "code",
      "metadata": {
        "colab": {
          "base_uri": "https://localhost:8080/"
        },
        "id": "204EHFeutWZ9",
        "outputId": "2f497975-07af-434d-83d5-4002b3312d23"
      },
      "source": [
        "%%shell\n",
        "\n",
        "./out 256"
      ],
      "execution_count": null,
      "outputs": [
        {
          "output_type": "stream",
          "name": "stdout",
          "text": [
            "\n",
            "\t........................................................................\n",
            " \t          Matrix Multiplication (Serial VS Tiled)                          \n",
            "\t........................................................................\n",
            "\n",
            "\n",
            "\t\t Matrix into Matrix Multiplication (Serial) ......Done \n",
            "\n",
            "\t\t Time in Seconds (T)        : 0.125315 Seconds \n",
            "\n",
            "\t\t ( T represents the Time taken for computation )\n",
            "\n",
            "\t\t Matrix into Matrix Multiplication (Tiled) ......Done \n",
            "\n",
            "\t\t Time in Seconds (T)        : 0.086112 Seconds \n",
            "\n",
            "\t\t ( T represents the Time taken for computation )\n",
            "\t\t..........................................................................\n",
            "Done Checking : Both Computations are same!! "
          ]
        },
        {
          "output_type": "execute_result",
          "data": {
            "text/plain": [
              ""
            ]
          },
          "metadata": {},
          "execution_count": 5
        }
      ]
    },
    {
      "cell_type": "markdown",
      "metadata": {
        "id": "me9rfZ-HQO7A"
      },
      "source": [
        "## Analysis "
      ]
    },
    {
      "cell_type": "code",
      "metadata": {
        "id": "gKArWKNoz73T"
      },
      "source": [
        "serial = [0.000001,\n",
        "0.000000 ,\n",
        "0.000003 ,\n",
        "0.000036 ,\n",
        "0.000164 ,\n",
        "0.002516 ,\n",
        "0.011201 ,\n",
        "0.112253 ,\n",
        "1.488146 ,\n",
        "12.283523 ,\n",
        "151.039676,\n",
        "1505.435873, \n",
        "7659.253458\n",
        "]\n",
        "\n",
        "parallel = [0.000115 ,\n",
        "0.000087 ,\n",
        "0.000079 ,\n",
        "0.001978 ,\n",
        "0.000379 ,\n",
        "0.002136 ,\n",
        "0.011197 ,\n",
        "0.075235 ,\n",
        "0.695457 ,\n",
        "5.515929 ,\n",
        "42.364133 ,\n",
        "381.263239 ,\n",
        "2516.833489,\n",
        "]"
      ],
      "execution_count": null,
      "outputs": []
    },
    {
      "cell_type": "code",
      "metadata": {
        "id": "5yyga4IxupCf"
      },
      "source": [
        "speed_up = [serial[i]/parallel[i] for i in range(len(parallel))]"
      ],
      "execution_count": null,
      "outputs": []
    },
    {
      "cell_type": "code",
      "metadata": {
        "id": "NxKnt1YO1aOQ"
      },
      "source": [
        "num_nodes = [2,4,8,16,32,64,128,256,512,1024,2048,4096,8192]"
      ],
      "execution_count": null,
      "outputs": []
    },
    {
      "cell_type": "code",
      "metadata": {
        "colab": {
          "base_uri": "https://localhost:8080/",
          "height": 312
        },
        "id": "db6EHjIluf7X",
        "outputId": "475bcf36-4129-4d7e-8532-13244c1d4f20"
      },
      "source": [
        "import matplotlib.pyplot as plt\n",
        "\n",
        "\n",
        "plt.plot(num_nodes,serial,'-.o',color='green',label='Serial')\n",
        "plt.plot(num_nodes,parallel,'--D',color='red',label='Parallel')\n",
        "plt.grid(axis = 'y')\n",
        "plt.xlabel('Matrix Dimension')\n",
        "plt.ylabel('Execution Time (Sec)')\n",
        "plt.title('Matrix Multiplication (Serial VS Parallel)')\n",
        "plt.legend(loc=\"upper left\")\n"
      ],
      "execution_count": null,
      "outputs": [
        {
          "output_type": "execute_result",
          "data": {
            "text/plain": [
              "<matplotlib.legend.Legend at 0x7fd5f1da75d0>"
            ]
          },
          "metadata": {},
          "execution_count": 10
        },
        {
          "output_type": "display_data",
          "data": {
            "image/png": "[encoded data removed]",
            "text/plain": [
              "<Figure size 432x288 with 1 Axes>"
            ]
          },
          "metadata": {
            "needs_background": "light"
          }
        }
      ]
    },
    {
      "cell_type": "code",
      "metadata": {
        "colab": {
          "base_uri": "https://localhost:8080/",
          "height": 312
        },
        "id": "Cw7TW961ukwT",
        "outputId": "73277f13-aa20-4fe8-c911-becbb44f1e14"
      },
      "source": [
        "plt.plot(num_nodes,speed_up,'-o',color='blue', mfc='cyan')\n",
        "plt.title('OpenMP SpeedUp for Tiled Matrix Multiplication')\n",
        "plt.xlabel('Graph Nodes')\n",
        "plt.ylabel('Speed Up')"
      ],
      "execution_count": null,
      "outputs": [
        {
          "output_type": "execute_result",
          "data": {
            "text/plain": [
              "Text(0, 0.5, 'Speed Up')"
            ]
          },
          "metadata": {},
          "execution_count": 11
        },
        {
          "output_type": "display_data",
          "data": {
            "image/png": "[encoded data removed]",
            "text/plain": [
              "<Figure size 432x288 with 1 Axes>"
            ]
          },
          "metadata": {
            "needs_background": "light"
          }
        }
      ]
    }
  ]
}